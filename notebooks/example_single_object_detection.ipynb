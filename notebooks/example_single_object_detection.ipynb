{
 "cells": [
  {
   "attachments": {},
   "cell_type": "markdown",
   "metadata": {},
   "source": [
    "# Example for Detecting Single Object (on White Background) and Draw Bounding Box"
   ]
  },
  {
   "attachments": {},
   "cell_type": "markdown",
   "metadata": {},
   "source": [
    "## Requirement"
   ]
  },
  {
   "cell_type": "code",
   "execution_count": null,
   "metadata": {},
   "outputs": [],
   "source": [
    "%pip install scikit-image"
   ]
  },
  {
   "attachments": {},
   "cell_type": "markdown",
   "metadata": {},
   "source": [
    "## Importing Required Modules"
   ]
  },
  {
   "cell_type": "code",
   "execution_count": null,
   "metadata": {},
   "outputs": [],
   "source": [
    "import os\n",
    "import time\n",
    "import cv2 as cv\n",
    "import numpy as np\n",
    "from skimage import morphology as morph"
   ]
  },
  {
   "attachments": {},
   "cell_type": "markdown",
   "metadata": {},
   "source": [
    "## Specify Path for Input and Output File"
   ]
  },
  {
   "cell_type": "code",
   "execution_count": null,
   "metadata": {},
   "outputs": [],
   "source": [
    "# Specify path to image file containing wingle object on white background\n",
    "input_file_path = './test-images/test1.jpg'\n",
    "# Specify path for writing output file\n",
    "output_file_path = os.path.join('./output/', f'{os.path.splitext(os.path.split(input_file_path)[-1])[0]}.png')"
   ]
  },
  {
   "attachments": {},
   "cell_type": "markdown",
   "metadata": {},
   "source": [
    "## Functions Definition"
   ]
  },
  {
   "cell_type": "code",
   "execution_count": null,
   "metadata": {},
   "outputs": [],
   "source": [
    "def get_contours(img, j_thres, s_thres):\n",
    "    '''Create contours based on edge detection and morphological operations\n",
    "\n",
    "    j_thres:\n",
    "    Join threshold for adjusting the integration level of individual characters / object. \n",
    "    Increase this value if the tool fails to segment large characters / objects or if the drawing lines is too faint. \n",
    "    The valid value is 1 to 15.\n",
    "    s_thres\n",
    "    Separation threshold for adjusting the separation level of neighboring characters / object. \n",
    "    Increase this value if the tool fails to segment characters / objects that is close one to another. \n",
    "    The valid value is 1 to 15.\n",
    "    '''\n",
    "    # Create grayscale version\n",
    "    img_gray = cv.cvtColor(img.copy(), cv.COLOR_BGR2GRAY)\n",
    "    # Noise removal\n",
    "    img_gray = cv.GaussianBlur(img_gray, (7,7), 0)\n",
    "    # Edge detection\n",
    "    edge = cv.Canny(img_gray, 30, 70)\n",
    "    # Dilate for getting sure foreground (object) area\n",
    "    edge = cv.dilate(edge, np.ones((j_thres,j_thres)), 1)\n",
    "    # Closing black holes inside the object with area < 10000 square pixels\n",
    "    edge = morph.area_closing(edge, 10000)\n",
    "\n",
    "    #cv.imwrite('./output/edge.png', edge)\n",
    "    # Try to separate touching objects\n",
    "    edge = cv.erode(edge, np.ones((s_thres,s_thres)), 1)\n",
    "    # Find contour\n",
    "    cts,_ = cv.findContours(edge.astype('uint8'), cv.RETR_EXTERNAL, cv.CHAIN_APPROX_SIMPLE)\n",
    "    return cts\n",
    "\n",
    "\n",
    "def get_large_contours(cts, size):\n",
    "    '''Return contouts larger than size'''\n",
    "    area = []\n",
    "    large_contour = []\n",
    "    for ct in cts:\n",
    "        a = cv.contourArea(ct)\n",
    "        if a > size:\n",
    "            area.append(a)\n",
    "            large_contour.append(ct)\n",
    "    return area, large_contour\n",
    "\n",
    "\n",
    "def draw_bboxes(img, contours, line_color, line_width):\n",
    "    '''Create sheet images with object bounding boxes'''\n",
    "\n",
    "    def __create_bboxes(contours):\n",
    "        '''Create oject bounding boxes from contours'''\n",
    "        bboxes = []\n",
    "        for ct in contours:    \n",
    "            x,y,w,h = cv.boundingRect(ct)\n",
    "            bboxes.append([x,y,w,h])\n",
    "        return bboxes\n",
    "\n",
    "    def __get_bbox_points(bbox, img_shape, pad_factor=0):\n",
    "        '''Return bounding box corner points'''\n",
    "        x, y, w, h = bbox\n",
    "        # Padding\n",
    "        y1 = y - int(h*pad_factor)\n",
    "        y2 = y + h + int(h*pad_factor)\n",
    "        x1 = x - int(w*pad_factor)\n",
    "        x2 = x + w + int(w*pad_factor)\n",
    "        # Limiting\n",
    "        if y1 < 0:\n",
    "            y1 = 0\n",
    "        if y2 > img_shape[0]-1:\n",
    "            y2 = img_shape[0]-1\n",
    "        if x1 < 0:\n",
    "            x1 = 0\n",
    "        if x2 > img_shape[1]-1:\n",
    "            x2 = img_shape[1]-1\n",
    "        return x1, x2, y1, y2\n",
    "\n",
    "    print ('Creating bounding boxes embedded image...')\n",
    "    # Creating rectangles to bound objects\n",
    "    bboxes = __create_bboxes(contours)\n",
    "    # Create a copy for drawing bboxes\n",
    "    img_bbox = img.copy()\n",
    "    # Writing to file\n",
    "    i = 1\n",
    "    for bbox in bboxes:\n",
    "        #print (f'Drawing box {i} from {len(bboxes)}')\n",
    "        x1, x2, y1, y2 = __get_bbox_points(bbox, img_bbox.shape)\n",
    "        cv.rectangle(img_bbox,(x1,y1),(x2,y2), line_color, line_width)\n",
    "        i+=1\n",
    "    return img_bbox"
   ]
  },
  {
   "attachments": {},
   "cell_type": "markdown",
   "metadata": {},
   "source": [
    "## Detect Object and Draw Bounding Box"
   ]
  },
  {
   "cell_type": "code",
   "execution_count": null,
   "metadata": {},
   "outputs": [],
   "source": [
    "# Reading image\n",
    "img = cv.imread(input_file_path, 1)\n",
    "'''\n",
    "Setting the join threshold (j_thres) and separation threshold (s_thres)\n",
    "- j_thres:\n",
    "Join threshold for adjusting the integration level of individual characters / object. \n",
    "Increase this value if the tool fails to segment large characters / objects or if the drawing lines is too faint. \n",
    "The valid value is 1 to 15.\n",
    "- s_thres\n",
    "Separation threshold for adjusting the separation level of neighboring characters / object. \n",
    "Increase this value if the tool fails to segment characters / objects that is close one to another. \n",
    "The valid value is 1 to 15.\n",
    "'''\n",
    "j_thres = 10\n",
    "s_thres = 1\n",
    "\n",
    "# Mark start time\n",
    "t_start = time.time()\n",
    "\n",
    "# Get object contours\n",
    "cts = get_contours(img, j_thres, s_thres)\n",
    "# Get contour with area larger than 300 pixel square. The smaller one considered noise\n",
    "_, lcts = get_large_contours(cts, size=1000)\n",
    "# Tell the number of objects found\n",
    "n_objects = len(lcts)\n",
    "print (f'Objects found: {n_objects}')\n",
    "img_bbox = draw_bboxes(img, lcts, line_color = (0,255,0), line_width=5)\n",
    "\n",
    "# Mark completed time\n",
    "t_end = time.time()\n",
    "\n",
    "print (f'Processing time: {t_end-t_start}')\n",
    "# Writing to file\n",
    "cv.imwrite(output_file_path, img_bbox)\n",
    "print (f'Bounding box image created as {output_file_path}')"
   ]
  }
 ],
 "metadata": {
  "kernelspec": {
   "display_name": "Python 3",
   "language": "python",
   "name": "python3"
  },
  "language_info": {
   "codemirror_mode": {
    "name": "ipython",
    "version": 3
   },
   "file_extension": ".py",
   "mimetype": "text/x-python",
   "name": "python",
   "nbconvert_exporter": "python",
   "pygments_lexer": "ipython3",
   "version": "3.9.4"
  },
  "orig_nbformat": 4
 },
 "nbformat": 4,
 "nbformat_minor": 2
}
